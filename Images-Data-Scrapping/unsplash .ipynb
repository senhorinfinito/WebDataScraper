{
 "cells": [
  {
   "cell_type": "code",
   "execution_count": 64,
   "id": "2dc09987",
   "metadata": {},
   "outputs": [],
   "source": [
    "import time\n",
    "from selenium import webdriver\n",
    "import requests\n",
    "from PIL import Image\n",
    "import os\n",
    "import io\n",
    "from tqdm import tqdm\n",
    "from bs4 import BeautifulSoup\n",
    "from requests import get\n"
   ]
  },
  {
   "cell_type": "code",
   "execution_count": 83,
   "id": "2075aca1",
   "metadata": {},
   "outputs": [],
   "source": [
    "def get_links(query, photos_required):\n",
    "    page_no = int(photos_required//20) + 2\n",
    "    urls = []\n",
    "    for i in range(1, page_no, 1):\n",
    "        res = requests.get(f\"https://unsplash.com/napi/search/photos?query={query}&xp=&per_page=20&page={page_no}\")\n",
    "        data = res.json()\n",
    "        for row in data[\"results\"]:\n",
    "            urls.append(row[\"urls\"]['raw'])\n",
    "    return urls[0:photos_required]"
   ]
  },
  {
   "cell_type": "code",
   "execution_count": 84,
   "id": "f1fbb2bf",
   "metadata": {},
   "outputs": [],
   "source": [
    "def save_imgs(image_urls,save_path):\n",
    "    try:\n",
    "        for i, img_url in enumerate(tqdm(image_urls)):\n",
    "            image_content = requests.get(img_url).content\n",
    "            image_file = io.BytesIO(image_content)\n",
    "\n",
    "            image = Image.open(image_file).convert('RGB')\n",
    "            w, h = image.size[0:2]\n",
    "            crop_img = image.crop((0,0,w,h-20))\n",
    "            file_path = os.path.join(save_path,'image'+str(i)+'.jpg')\n",
    "            with open(file_path, 'wb') as f:\n",
    "                    crop_img.save(f, \"JPEG\", quality=100)\n",
    "        print('All Images stored at ', save_path)\n",
    "    except Exception as e :\n",
    "        print(e)"
   ]
  },
  {
   "cell_type": "code",
   "execution_count": 85,
   "id": "46bceaf2",
   "metadata": {},
   "outputs": [
    {
     "name": "stderr",
     "output_type": "stream",
     "text": [
      "100%|██████████████████████████████████████████████████████████████████████████████████| 20/20 [02:53<00:00,  8.68s/it]"
     ]
    },
    {
     "name": "stdout",
     "output_type": "stream",
     "text": [
      "All Images stored at  C:\\Users\\Anant Sakhare\\Desktop\\study\\image_scrapping\\baby\n"
     ]
    },
    {
     "name": "stderr",
     "output_type": "stream",
     "text": [
      "\n"
     ]
    }
   ],
   "source": [
    "#creating save_path\n",
    "main_dir=fr'C:\\Users\\Anant Sakhare\\Desktop\\study\\image_scrapping'   # change path if required\n",
    "\n",
    "path = os.path.join(main_dir, 'baby')\n",
    "if not os.path.exists(path):\n",
    "    os.mkdir(path)\n",
    "save_path= path \n",
    "links_img = get_links('baby', 20)\n",
    "save_imgs(links_img, save_path)"
   ]
  },
  {
   "cell_type": "code",
   "execution_count": null,
   "id": "63bbc090",
   "metadata": {},
   "outputs": [],
   "source": []
  }
 ],
 "metadata": {
  "kernelspec": {
   "display_name": "Python 3",
   "language": "python",
   "name": "python3"
  },
  "language_info": {
   "codemirror_mode": {
    "name": "ipython",
    "version": 3
   },
   "file_extension": ".py",
   "mimetype": "text/x-python",
   "name": "python",
   "nbconvert_exporter": "python",
   "pygments_lexer": "ipython3",
   "version": "3.8.8"
  }
 },
 "nbformat": 4,
 "nbformat_minor": 5
}
