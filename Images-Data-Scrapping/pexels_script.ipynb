{
 "cells": [
  {
   "cell_type": "markdown",
   "id": "664a761e",
   "metadata": {},
   "source": [
    "# Image Data Mining Script"
   ]
  },
  {
   "cell_type": "code",
   "execution_count": null,
   "id": "5142bea2",
   "metadata": {},
   "outputs": [],
   "source": [
    "# #installing Libraries\n",
    "# !pip install Pillow\n",
    "# !pip install tqdm\n",
    "# !pip install selenium\n",
    "# !pip install beautifulsoup4\n",
    "# !pip install requests"
   ]
  },
  {
   "cell_type": "markdown",
   "id": "716e6618",
   "metadata": {},
   "source": [
    "* This code helps you to fetch image download links from [PEXELS](https://www.pexels.com/). \n",
    "\n",
    "* Input Parameters keyword which you want to look - must be single item.\n",
    "\n",
    "* Output- Downloadable urls "
   ]
  },
  {
   "cell_type": "code",
   "execution_count": null,
   "id": "318ae337",
   "metadata": {},
   "outputs": [],
   "source": [
    "\"\"\"Import Libraries\"\"\"\n",
    "import time\n",
    "from selenium import webdriver\n",
    "import requests\n",
    "from PIL import Image\n",
    "import os\n",
    "import io\n",
    "from tqdm import tqdm\n",
    "from bs4 import BeautifulSoup\n",
    "from requests import get"
   ]
  },
  {
   "cell_type": "markdown",
   "id": "64254f7a",
   "metadata": {},
   "source": [
    "### Main scripting"
   ]
  },
  {
   "cell_type": "code",
   "execution_count": null,
   "id": "d5f96c88",
   "metadata": {},
   "outputs": [],
   "source": [
    "def images_urls(total_pages, keyword):\n",
    "    try:\n",
    "        images_links = []\n",
    "        for i in range(1, int(total_pages), 1):\n",
    "            b = webdriver.Chrome(executable_path=DRIVER_PATH)\n",
    "            url = f\"https://www.pexels.com/search/{keyword}/?page={i}\"\n",
    "            b.get(url)\n",
    "            time.sleep(2)\n",
    "            download_links = (b.find_elements_by_xpath('.//a[contains(@data-request-path, \"/after_download_modal/\")]'))\n",
    "            for i in download_links:\n",
    "                images_links.append(i.get_attribute('href'))\n",
    "            b.quit()\n",
    "        print('All Pages scrapping completed ')\n",
    "        print(\"saved_path is \" + save_path)\n",
    "    except Exception as e:\n",
    "        print(e)\n",
    "    return images_links"
   ]
  },
  {
   "cell_type": "code",
   "execution_count": null,
   "id": "de4d9cb2",
   "metadata": {},
   "outputs": [],
   "source": [
    "def save_imgs(image_urls,save_path):\n",
    "    try:\n",
    "        for img_url in tqdm(image_urls):\n",
    "            image_content = requests.get(img_url).content\n",
    "            image_file = io.BytesIO(image_content)\n",
    "\n",
    "            image = Image.open(image_file).convert('RGB')\n",
    "            w, h = image.size[0:2]\n",
    "            crop_img = image.crop((0,0,w,h-20))\n",
    "            file_path = os.path.join(save_path,img_url.split('/')[-3]+'.jpg')\n",
    "            with open(file_path, 'wb') as f:\n",
    "                    crop_img.save(f, \"JPEG\", quality=100)\n",
    "        print('All Images stored at ', save_path)\n",
    "    except Exception as e :\n",
    "        print(e)"
   ]
  },
  {
   "cell_type": "code",
   "execution_count": null,
   "id": "acf5889f",
   "metadata": {},
   "outputs": [],
   "source": [
    "keyword = input('enter the item you are looking for:   ')\n",
    "photo_count = int(input('enter number of photos you required:  '))\n",
    "\n",
    "DRIVER_PATH = r\"C:\\\\Users\\\\Administrator\\\\Downloads\\\\chromedriver\\\\chromedriver.exe\"  # change path if needed\n",
    "\n",
    "#creating save_path\n",
    "main_dir=f'C:/Users/Administrator/Documents'   # change path if required\n",
    "\n",
    "path = os.path.join(main_dir, keyword)\n",
    "os.mkdir(path)\n",
    "save_path= path   # change path if required\n",
    "\n",
    "pages = (photo_count//30) + 1\n",
    "print(\"total numbers of pages : \", pages)\n",
    "\n",
    "links  = images_urls(pages, keyword)\n",
    "save_imgs(links, save_path)\n",
    "\n",
    "print('Task Finished')"
   ]
  }
 ],
 "metadata": {
  "kernelspec": {
   "display_name": "Python 3",
   "language": "python",
   "name": "python3"
  },
  "language_info": {
   "codemirror_mode": {
    "name": "ipython",
    "version": 3
   },
   "file_extension": ".py",
   "mimetype": "text/x-python",
   "name": "python",
   "nbconvert_exporter": "python",
   "pygments_lexer": "ipython3",
   "version": "3.9.5"
  }
 },
 "nbformat": 4,
 "nbformat_minor": 5
}
