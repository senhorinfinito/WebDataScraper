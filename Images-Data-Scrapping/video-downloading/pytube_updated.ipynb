{
 "cells": [
  {
   "cell_type": "markdown",
   "id": "205880cc",
   "metadata": {},
   "source": [
    "## Youtube Downloading with PYTUBE (pypi)\n"
   ]
  },
  {
   "cell_type": "code",
   "execution_count": null,
   "id": "3f138d2e",
   "metadata": {},
   "outputs": [],
   "source": [
    "\"\"\" Please uncomment necessory pacakages which are not neccesory\"\"\"\n",
    "# !pip install pytube\n",
    "# !pip install tdqm"
   ]
  },
  {
   "cell_type": "code",
   "execution_count": null,
   "id": "312cc997",
   "metadata": {},
   "outputs": [],
   "source": [
    "\n",
    "\"\"\"Import Libraries\"\"\"\n",
    "import re\n",
    "import os\n",
    "from tqdm import tqdm\n",
    "from pytube import Playlist\n",
    "from pytube import YouTube\n",
    "from pytube.cli import on_progress"
   ]
  },
  {
   "cell_type": "markdown",
   "id": "699dedf2",
   "metadata": {},
   "source": [
    "## Input Data "
   ]
  },
  {
   "cell_type": "markdown",
   "id": "eb10b3a7",
   "metadata": {},
   "source": [
    "### Download by using *.txt file"
   ]
  },
  {
   "cell_type": "markdown",
   "id": "85ce4efd",
   "metadata": {},
   "source": [
    "If you are using indivisual links. Please  follow these steps.\n",
    "1. Copy all urls into a .txt file \n",
    "2. Before copying link make sure your raw video is having same quality which you are going to download from youtbe.\n",
    "2. Avoid space between two links\n",
    "    "
   ]
  },
  {
   "cell_type": "code",
   "execution_count": null,
   "id": "9930c005",
   "metadata": {},
   "outputs": [],
   "source": [
    "def get_links(file_name):\n",
    "    \"\"\"\n",
    "    returns a list of links which found in *.txt file\n",
    "    \"\"\"\n",
    "    fname = (open(file_name))  #add path with file name \n",
    "    links = [(i.strip().split()) for i in fname]\n",
    "    return links "
   ]
  },
  {
   "cell_type": "code",
   "execution_count": null,
   "id": "f3f5bdb4",
   "metadata": {},
   "outputs": [],
   "source": [
    "def download_pytube_video(path,file_path):\n",
    "    \"\"\"\n",
    "    links_list : this is list of urls from function get links \n",
    "    qulaity : You can choose quality based on the video available on online\n",
    "    ex: 144p, 240p, 360p, 480p, 720p, 1080p\n",
    "    \"\"\"\n",
    "    links_list = get_links(file_path)\n",
    "    quality = input('enter the video quality (Resolution): ')\n",
    "    for i, j in enumerate(links_list):\n",
    "        yt_stream = YouTube(j[0], on_progress_callback= on_progress )\n",
    "        t = yt_stream.streams.filter(res = f'{quality}p')\n",
    "        try:\n",
    "            t[0].download(path)\n",
    "            print('considered specified solution')\n",
    "        except:\n",
    "            t = yt_stream.streams.get_highest_resolution().download(path)\n",
    "            print(\"picked default resolution\")\n",
    "        print('video   ',  i, \" Downloaded\")"
   ]
  },
  {
   "cell_type": "code",
   "execution_count": null,
   "id": "60be24b2",
   "metadata": {},
   "outputs": [],
   "source": [
    "file_path = r'C:\\Users\\Administrator\\Desktop\\codes\\files\\test1.txt'                   # change as per requirement\n",
    "save_path = r'C:\\Users\\Administrator\\Desktop\\pytube\\save_path'                             # change as per requirement\n",
    "download_pytube_video(save_path, file_path)  "
   ]
  },
  {
   "cell_type": "markdown",
   "id": "814bf310",
   "metadata": {},
   "source": [
    "### Dowload whole playlist"
   ]
  },
  {
   "cell_type": "code",
   "execution_count": null,
   "id": "d9dabce6",
   "metadata": {},
   "outputs": [],
   "source": [
    "def download_from_playlist(path, playlist_url):\n",
    "    \"\"\"need to pass playlist url\"\"\"\n",
    "    all_urls = []\n",
    "    playlist = Playlist(playlist_url)\n",
    "    playlist._video_regex = re.compile(r\"\\\"url\\\":\\\"(/watch\\?v=[\\w-]*)\")\n",
    "    print('Number of videos in playlist: %s' % len(playlist.video_urls))\n",
    "    for url in playlist.video_urls:\n",
    "        all_urls.append(url)\n",
    "    resolution = input('Please enter the quality:  ')\n",
    "    for i, j in enumerate(all_urls):\n",
    "        yt = YouTube(j, on_progress_callback=on_progress)\n",
    "        t = yt.streams.filter(res =f'{resolution}p')\n",
    "        try:\n",
    "            print('considered specified solution')\n",
    "            t[0].download(path)\n",
    "        except:\n",
    "            print(\"picked default resolution\")\n",
    "            t = yt.streams.get_highest_resolution().download(path)\n",
    "        print('video   ',  (i+1), \"  Downloaded\")"
   ]
  },
  {
   "cell_type": "code",
   "execution_count": null,
   "id": "9a57facc",
   "metadata": {},
   "outputs": [],
   "source": [
    "url = 'https://youtube.com/playlist?list=PLOi1HAYWbV-YofmXxTChlKJngsiV3rv1F'                # change as per requirement\n",
    "save_path = r'C:\\Users\\Administrator\\Desktop\\pytube\\save_path'                                   # change as per requirement\n",
    "download_from_playlist(save_path, url)"
   ]
  },
  {
   "cell_type": "markdown",
   "id": "8003ee90",
   "metadata": {},
   "source": [
    "### Downloading Indivisual Videos"
   ]
  },
  {
   "cell_type": "code",
   "execution_count": null,
   "id": "1851ca4f",
   "metadata": {},
   "outputs": [],
   "source": [
    "def download_individual(path, link):\n",
    "    resolution = input('Please enter the quality:  ')\n",
    "    yt = YouTube(link, on_progress_callback=on_progress)\n",
    "    t = yt.streams.filter(res =f'{resolution}p')\n",
    "    \n",
    "    try:\n",
    "        print('considered specified solution')\n",
    "        t[0].download(path)\n",
    "    except:\n",
    "        print(\"picked default resolution\")\n",
    "        t = yt.streams.get_highest_resolution().download(path)\n",
    "    print(\"video    Downloaded\")"
   ]
  },
  {
   "cell_type": "code",
   "execution_count": null,
   "id": "2be680e2",
   "metadata": {},
   "outputs": [],
   "source": [
    "save_path = r'C:\\Users\\Administrator\\Desktop\\pytube\\save_path'                             # change as per requirement\n",
    "url = 'https://youtu.be/ZOuIok4Ju04'                                                  # change as per requirement\n",
    "download_individual(save_path, url)"
   ]
  },
  {
   "cell_type": "markdown",
   "id": "bd394174",
   "metadata": {},
   "source": [
    "## Note\n",
    "1.  File saved at specified path location. "
   ]
  }
 ],
 "metadata": {
  "kernelspec": {
   "display_name": "Python 3",
   "language": "python",
   "name": "python3"
  },
  "language_info": {
   "codemirror_mode": {
    "name": "ipython",
    "version": 3
   },
   "file_extension": ".py",
   "mimetype": "text/x-python",
   "name": "python",
   "nbconvert_exporter": "python",
   "pygments_lexer": "ipython3",
   "version": "3.9.5"
  }
 },
 "nbformat": 4,
 "nbformat_minor": 5
}
