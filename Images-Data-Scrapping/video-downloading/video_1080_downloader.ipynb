{
 "cells": [
  {
   "cell_type": "markdown",
   "id": "664a761e",
   "metadata": {},
   "source": [
    "# Image Data Mining Script"
   ]
  },
  {
   "cell_type": "code",
   "execution_count": 3,
   "id": "5142bea2",
   "metadata": {},
   "outputs": [],
   "source": [
    "# #installing Libraries\n",
    "# !pip install Pillow\n",
    "# !pip install tqdm\n",
    "# !pip install selenium\n",
    "# !pip install beautifulsoup4\n",
    "# !pip install requests"
   ]
  },
  {
   "cell_type": "code",
   "execution_count": null,
   "id": "26036eff",
   "metadata": {},
   "outputs": [],
   "source": []
  },
  {
   "cell_type": "markdown",
   "id": "716e6618",
   "metadata": {},
   "source": [
    "* This code helps you to fetch videos download links from [YOUTUBE](https://www.youtube.com/). \n",
    "\n",
    "* Input Parameters text file (.txt) which you want to look - must be single item.\n",
    "\n",
    "* Output- Downloaded Videos in 1080p  "
   ]
  },
  {
   "cell_type": "code",
   "execution_count": 4,
   "id": "318ae337",
   "metadata": {},
   "outputs": [],
   "source": [
    "\"\"\"Import Libraries\"\"\"\n",
    "import time\n",
    "from selenium import webdriver\n",
    "import requests\n",
    "from PIL import Image\n",
    "import os\n",
    "import io\n",
    "from tqdm import tqdm\n",
    "from bs4 import BeautifulSoup\n",
    "from requests import get\n",
    "import urllib.request"
   ]
  },
  {
   "cell_type": "code",
   "execution_count": 5,
   "id": "00e778c6",
   "metadata": {},
   "outputs": [],
   "source": [
    "def get_links(file_name):\n",
    "    \"\"\"\n",
    "    returns a list of links which found in file\n",
    "    \"\"\"\n",
    "    fname = (open(file_name))  #add path with file name \n",
    "    links = [(i.strip().split()[0]) for i in fname]\n",
    "    return links    "
   ]
  },
  {
   "cell_type": "code",
   "execution_count": 20,
   "id": "1d3773c4",
   "metadata": {},
   "outputs": [],
   "source": [
    "def getting_download_videos(links_list):\n",
    "    \"\"\"returns a downloadable links from savefrom.net\"\"\"\n",
    "    downloading_links = []\n",
    "    DRIVER_PATH = r\"C:\\\\Users\\\\Administrator\\\\Downloads\\\\chromedriver\\\\chromedriver.exe\"\n",
    "    try:\n",
    "        for i in links_list:\n",
    "            b = webdriver.Chrome(executable_path=DRIVER_PATH)\n",
    "            b.get(\"https://en.savefrom.net\")\n",
    "            b.find_element_by_name('sf_url').send_keys(i)\n",
    "            time.sleep(2)\n",
    "            b.find_element_by_name('sf_submit').click()\n",
    "            time.sleep(5)\n",
    "            b.find_element_by_class_name('def-btn-name').click()\n",
    "            time.sleep(2)\n",
    "            b.find_element_by_class_name('more-links').click()\n",
    "            time.sleep(2)\n",
    "            link = b.find_element_by_xpath('.//a[contains(@title, \"video format: 1080 (without audio)\" )]').get_attribute('href')\n",
    "            downloading_links.append(link)\n",
    "            b.quit()\n",
    "    except  Excepation as e:\n",
    "        print(e)\n",
    "    return downloading_links"
   ]
  },
  {
   "cell_type": "code",
   "execution_count": 49,
   "id": "35ee2064",
   "metadata": {},
   "outputs": [],
   "source": [
    "def downloading_videos(links_list, item_name):\n",
    "    \"\"\"Actaully downloads the file save to destination folder\"\"\"\n",
    "    main_dir=r'C:\\Users\\Administrator\\Documents\\youtube_videos\\1080p'   # change path if required\n",
    "    path_link = os.path.join(main_dir, item_name)\n",
    "    if not os.path.exists(path_link):\n",
    "        os.mkdir(path_link)\n",
    "    save_path= path_link\n",
    "    for i,j in enumerate(links_list):\n",
    "        urllib.request.urlretrieve(j, f'{save_path}\\\\youtube{i}_{item_name}.mp4')\n",
    "        print(f'Video downloaded_{item_name}_{i}')\n",
    "    time.sleep(5)"
   ]
  },
  {
   "cell_type": "code",
   "execution_count": 21,
   "id": "87d4d2d9",
   "metadata": {},
   "outputs": [],
   "source": [
    "videos_links = get_links('test.txt')\n",
    "videos_links = videos_links[0:3]\n",
    "download_links = getting_download_videos(videos_links)\n",
    "  "
   ]
  },
  {
   "cell_type": "code",
   "execution_count": null,
   "id": "d4b70b4a",
   "metadata": {},
   "outputs": [
    {
     "name": "stdout",
     "output_type": "stream",
     "text": [
      "Video downloaded_traffic_0\n",
      "Video downloaded_traffic_1\n"
     ]
    }
   ],
   "source": [
    "download_videos = downloading_videos(download_links, 'traffic')"
   ]
  },
  {
   "cell_type": "code",
   "execution_count": null,
   "id": "ad93949b",
   "metadata": {},
   "outputs": [],
   "source": []
  }
 ],
 "metadata": {
  "kernelspec": {
   "display_name": "Python 3",
   "language": "python",
   "name": "python3"
  },
  "language_info": {
   "codemirror_mode": {
    "name": "ipython",
    "version": 3
   },
   "file_extension": ".py",
   "mimetype": "text/x-python",
   "name": "python",
   "nbconvert_exporter": "python",
   "pygments_lexer": "ipython3",
   "version": "3.9.5"
  }
 },
 "nbformat": 4,
 "nbformat_minor": 5
}
