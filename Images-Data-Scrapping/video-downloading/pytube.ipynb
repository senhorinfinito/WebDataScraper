{
 "cells": [
  {
   "cell_type": "markdown",
   "id": "205880cc",
   "metadata": {},
   "source": [
    "## Youtube Downloading with pytube(pypi)\n"
   ]
  },
  {
   "cell_type": "code",
   "execution_count": 1,
   "id": "3f138d2e",
   "metadata": {},
   "outputs": [
    {
     "data": {
      "text/plain": [
       "' Please uncomment necessory pacakages which are not neccesory'"
      ]
     },
     "execution_count": 1,
     "metadata": {},
     "output_type": "execute_result"
    }
   ],
   "source": [
    "\"\"\" Please uncomment necessory pacakages which are not neccesory\"\"\"\n",
    "# !pip install pytube\n",
    "# !pip install selenium\n",
    "# !pip install tdqm"
   ]
  },
  {
   "cell_type": "code",
   "execution_count": 2,
   "id": "312cc997",
   "metadata": {},
   "outputs": [],
   "source": [
    "\"\"\"Import Libraries\"\"\"\n",
    "import time\n",
    "from selenium import webdriver\n",
    "import requests\n",
    "from PIL import Image\n",
    "import os\n",
    "import io\n",
    "from tqdm import tqdm\n",
    "from bs4 import BeautifulSoup\n",
    "from requests import get\n",
    "import urllib.request\n",
    "import re\n",
    "from pytube import Playlist\n",
    "from pytube import YouTube"
   ]
  },
  {
   "cell_type": "markdown",
   "id": "699dedf2",
   "metadata": {},
   "source": [
    "## Input Data "
   ]
  },
  {
   "cell_type": "markdown",
   "id": "eb10b3a7",
   "metadata": {},
   "source": [
    "### Download by using *.txt file"
   ]
  },
  {
   "cell_type": "markdown",
   "id": "85ce4efd",
   "metadata": {},
   "source": [
    "If you are using indivisual links. Please  follow these steps.\n",
    "1. Copy all urls into a .txt file \n",
    "2. Before copying link make sure your raw video is having same quality which you are going to download from youtbe.\n",
    "2. Avoid space between two links\n",
    "    "
   ]
  },
  {
   "cell_type": "code",
   "execution_count": 3,
   "id": "9930c005",
   "metadata": {},
   "outputs": [],
   "source": [
    "def get_links(file_name):\n",
    "    \"\"\"\n",
    "    returns a list of links which found in *.txt file\n",
    "    \"\"\"\n",
    "    fname = (open(file_name))  #add path with file name \n",
    "    links = [(i.strip().split()) for i in fname]\n",
    "    return links \n"
   ]
  },
  {
   "cell_type": "code",
   "execution_count": 4,
   "id": "f3f5bdb4",
   "metadata": {},
   "outputs": [],
   "source": [
    "def download_pytube_video(links_list):\n",
    "    \"\"\"\n",
    "    links_list : this is list of urls from function get links \n",
    "    qulaity : You can choose quality based on the video available on online\n",
    "    ex: 144p, 240p, 360p, 480p, 720p, 1080p\n",
    "    \n",
    "    \"\"\"\n",
    "    \n",
    "    quality = input('enter the video quality (Resolution): ')\n",
    "#     print(links_list)\n",
    "    for i, j in enumerate(links_list):\n",
    "        yt_stream = YouTube(j[0])\n",
    "        t = yt_stream.streams.filter(res = f'{quality}p')\n",
    "        t[0].download()\n",
    "        print('video   ',  i, \" Downloaded\")"
   ]
  },
  {
   "cell_type": "code",
   "execution_count": 5,
   "id": "60be24b2",
   "metadata": {},
   "outputs": [
    {
     "name": "stdout",
     "output_type": "stream",
     "text": [
      "enter the video quality (Resolution): 1080\n",
      "video    0  Downloaded\n",
      "video    1  Downloaded\n"
     ]
    }
   ],
   "source": [
    "download_pytube_video(links_list=get_links('./files/test1.txt'))  ## enter here file name"
   ]
  },
  {
   "cell_type": "markdown",
   "id": "814bf310",
   "metadata": {},
   "source": [
    "### Dowload whole playlist"
   ]
  },
  {
   "cell_type": "code",
   "execution_count": 6,
   "id": "d9dabce6",
   "metadata": {},
   "outputs": [],
   "source": [
    "def download_from_playlist(playlist_url):\n",
    "    \"\"\"need to pass playlist url\"\"\"\n",
    "    all_urls = []\n",
    "    playlist = Playlist(playlist_url)\n",
    "    playlist._video_regex = re.compile(r\"\\\"url\\\":\\\"(/watch\\?v=[\\w-]*)\")\n",
    "    print('Number of videos in playlist: %s' % len(playlist.video_urls))\n",
    "    for url in playlist.video_urls:\n",
    "        all_urls.append(url)\n",
    "    resolution = input('Please enter the quality:  ')\n",
    "    for i, j in enumerate(all_urls):\n",
    "        yt = YouTube(j)\n",
    "        t = yt.streams.filter(res =f'{resolution}p')\n",
    "        t[0].download()\n",
    "        print('video   ',  (i+1), \"  Downloaded\")"
   ]
  },
  {
   "cell_type": "code",
   "execution_count": 7,
   "id": "9a57facc",
   "metadata": {},
   "outputs": [
    {
     "name": "stdout",
     "output_type": "stream",
     "text": [
      "Number of videos in playlist: 3\n",
      "Please enter the quality:  1080\n",
      "video    1   Downloaded\n",
      "video    2   Downloaded\n",
      "video    3   Downloaded\n"
     ]
    }
   ],
   "source": [
    "download_from_playlist(\"https://youtube.com/playlist?list=PL43kqDpKtkXowrRKbXWZxytZekvCJdnCH\")"
   ]
  },
  {
   "cell_type": "markdown",
   "id": "8003ee90",
   "metadata": {},
   "source": [
    "### Downloading Indivisual Videos"
   ]
  },
  {
   "cell_type": "code",
   "execution_count": 8,
   "id": "1851ca4f",
   "metadata": {},
   "outputs": [],
   "source": [
    "def download_indivisual(link):\n",
    "    resolution = input('Please enter the quality:  ')\n",
    "\n",
    "    yt = YouTube(link)\n",
    "    t = yt.streams.filter(res =f'{resolution}p')\n",
    "    t[0].download()\n",
    "    print(\"video    Downloaded\")"
   ]
  },
  {
   "cell_type": "code",
   "execution_count": 11,
   "id": "2be680e2",
   "metadata": {},
   "outputs": [
    {
     "name": "stdout",
     "output_type": "stream",
     "text": [
      "Please enter the quality:  720\n",
      "video    Downloaded\n"
     ]
    }
   ],
   "source": [
    "download_indivisual('https://www.youtube.com/watch?v=zlodu0ulTlU&list=PL43kqDpKtkXowrRKbXWZxytZekvCJdnCH&index=1')"
   ]
  },
  {
   "cell_type": "markdown",
   "id": "bd394174",
   "metadata": {},
   "source": [
    "## Note\n",
    "1.  File saved at exist path location. "
   ]
  },
  {
   "cell_type": "code",
   "execution_count": null,
   "id": "21eee557",
   "metadata": {},
   "outputs": [],
   "source": []
  }
 ],
 "metadata": {
  "kernelspec": {
   "display_name": "Python 3",
   "language": "python",
   "name": "python3"
  },
  "language_info": {
   "codemirror_mode": {
    "name": "ipython",
    "version": 3
   },
   "file_extension": ".py",
   "mimetype": "text/x-python",
   "name": "python",
   "nbconvert_exporter": "python",
   "pygments_lexer": "ipython3",
   "version": "3.9.5"
  }
 },
 "nbformat": 4,
 "nbformat_minor": 5
}
