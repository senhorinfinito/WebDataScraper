{
 "cells": [
  {
   "cell_type": "code",
   "execution_count": 49,
   "metadata": {},
   "outputs": [],
   "source": [
    "\"\"\"Import Libraries\"\"\"\n",
    "import time\n",
    "from selenium import webdriver\n",
    "import requests\n",
    "from PIL import Image\n",
    "import os\n",
    "import io\n",
    "from tqdm import tqdm\n",
    "from bs4 import BeautifulSoup\n",
    "from requests import get\n",
    "from dateutil import parser\n",
    "import mysql.connector\n"
   ]
  },
  {
   "cell_type": "code",
   "execution_count": 52,
   "metadata": {},
   "outputs": [
    {
     "name": "stdout",
     "output_type": "stream",
     "text": [
      "<mysql.connector.connection_cext.CMySQLConnection object at 0x000001F87D280610>\n",
      "('information_schema',)\n",
      "('mydatabase',)\n",
      "('mysql',)\n",
      "('news_article',)\n",
      "('performance_schema',)\n",
      "('sakila',)\n",
      "('sys',)\n",
      "('toi_data',)\n",
      "('world',)\n"
     ]
    }
   ],
   "source": [
    "# first lets connect with data base & create a table in it\n",
    "mydb = mysql.connector.connect(\n",
    "  host=\"localhost\",\n",
    "  user=\"root\",\n",
    "  password=\"----------------\"\n",
    ")\n",
    "\n",
    "print(mydb)\n",
    "\n",
    "mycursor = mydb.cursor()\n",
    "\n",
    "mycursor.execute(\"CREATE DATABASE IF NOT EXISTS toi_data\")\n",
    "\n",
    "mycursor.execute(\"SHOW DATABASES\")\n",
    "\n",
    "\n",
    "for x in mycursor:\n",
    "    print(x)\n",
    "    \n",
    "mydb = mysql.connector.connect(\n",
    "  host=\"localhost\",\n",
    "  user=\"root\",\n",
    "  password=\"-----------\",\n",
    "  database=\"toi_data\"\n",
    ")\n",
    "mycursor = mydb.cursor()\n",
    "# mycursor.execute(\"CREATE TABLE toi (Title VARCHAR(255), URL VARCHAR(255), DATE datetime, CONTENT TEXT(65535), IMAGES TEXT(65535))\")"
   ]
  },
  {
   "cell_type": "code",
   "execution_count": 53,
   "metadata": {},
   "outputs": [
    {
     "name": "stdout",
     "output_type": "stream",
     "text": [
      "No next page found\n"
     ]
    }
   ],
   "source": [
    "url = 'https://timesofindia.indiatimes.com/education/cbse/cbse-class-12'\n",
    "base_url = 'https://timesofindia.indiatimes.com'\n",
    "urls = [url]\n",
    "for i in range (0,10):\n",
    "    response =  get(url)\n",
    "    data = BeautifulSoup(response.content, 'html.parser')\n",
    "    try:\n",
    "        link = data.find('li', attrs ={'class':'next'}).find('a')['href']\n",
    "        if len(link) > 0:\n",
    "            urls.append(base_url + link)\n",
    "            url = base_url + link\n",
    "        else:\n",
    "            print('No next page found')\n",
    "            print(i)\n",
    "    except:\n",
    "        print('No next page found')\n",
    "        break\n",
    "        \n"
   ]
  },
  {
   "cell_type": "code",
   "execution_count": 54,
   "metadata": {},
   "outputs": [
    {
     "name": "stdout",
     "output_type": "stream",
     "text": [
      "['https://timesofindia.indiatimes.com/education/cbse/cbse-class-12', 'https://timesofindia.indiatimes.com/education/cbse/cbse-class-12/2', 'https://timesofindia.indiatimes.com/education/cbse/cbse-class-12/3']\n"
     ]
    }
   ],
   "source": [
    "print(urls)"
   ]
  },
  {
   "cell_type": "code",
   "execution_count": 55,
   "metadata": {},
   "outputs": [],
   "source": [
    "def page_urls(data):\n",
    "    urls = []\n",
    "    for link in range(0, len(data),1):\n",
    "            repos= get(data[link])\n",
    "            get_data = BeautifulSoup(repos.content, 'html.parser')\n",
    "            for i in get_data.find_all('span', attrs = {'class':'w_tle'}):\n",
    "                links = (i.find('a')['href'])\n",
    "                if 'irticleshow' and '.cms' in links:\n",
    "                    if links.startswith('https'):\n",
    "                        urls.append(links)\n",
    "                    else:\n",
    "                        urls.append('https://timesofindia.indiatimes.com' + links)\n",
    "            print(f'Page number completed {link}')\n",
    "    return urls"
   ]
  },
  {
   "cell_type": "code",
   "execution_count": 56,
   "metadata": {},
   "outputs": [
    {
     "name": "stdout",
     "output_type": "stream",
     "text": [
      "Page number completed 0\n",
      "Page number completed 1\n",
      "Page number completed 2\n"
     ]
    },
    {
     "data": {
      "text/plain": [
       "191"
      ]
     },
     "execution_count": 56,
     "metadata": {},
     "output_type": "execute_result"
    }
   ],
   "source": [
    "all_urls=  page_urls(urls)\n",
    "len(all_urls)"
   ]
  },
  {
   "cell_type": "code",
   "execution_count": 57,
   "metadata": {},
   "outputs": [],
   "source": [
    "def extarct_page_data(pages_urls ):\n",
    "    news_data =[]\n",
    "    c = 0\n",
    "    for name, url in enumerate(pages_urls):\n",
    "        try:\n",
    "            page = get(url)\n",
    "            page_data = BeautifulSoup(page.content, 'html.parser')  \n",
    "            title = page_data.find('h1', attrs = {'class':'heading1'}).text\n",
    "            art_url =  url\n",
    "            img_url = page_data.find_all('img')\n",
    "            img_urls = [ img['src']  for img in img_url if len(img['src']) > 0 if img['src']]\n",
    "            img_urls = ' '.join(map(str, img_urls))\n",
    "            day = page_data.find('span', attrs ={'class':'time_cptn'} ).text.split()[-5]\n",
    "            month = page_data.find('span', attrs ={'class':'time_cptn'} ).text.split()[-4]\n",
    "            year = page_data.find('span', attrs ={'class':'time_cptn'} ).text.split()[-3]\n",
    "            hour = page_data.find('span', attrs ={'class':'time_cptn'} ).text.split()[-2].split(':')[0]\n",
    "            minute = page_data.find('span', attrs ={'class':'time_cptn'} ).text.split()[-2].split(':')[1]\n",
    "            timezone = page_data.find('span', attrs ={'class':'time_cptn'} ).text.split()[-1]\n",
    "            date = parser.parse(f'{month} {day} {year} {hour}:{minute}:00' ).isoformat()\n",
    "            page_content = page_data.find('div', attrs = {'class':'section1'}).text.strip().replace('\\n' , ' ')    \n",
    "            val = (title, art_url,date, page_content, img_urls)\n",
    "            news_data.append(val)\n",
    "    #         mycursor.executemany(query, val)\n",
    "            print(f'Status {name}', end = '\\r')\n",
    "            time.sleep(1)\n",
    "        except:\n",
    "            pass\n",
    "    return news_data\n",
    "        #         continue\n",
    "\n",
    "\n",
    "# \n",
    "\n"
   ]
  },
  {
   "cell_type": "code",
   "execution_count": 60,
   "metadata": {},
   "outputs": [
    {
     "name": "stdout",
     "output_type": "stream",
     "text": [
      "Status 190\r"
     ]
    }
   ],
   "source": [
    "data = extarct_page_data(all_urls)"
   ]
  },
  {
   "cell_type": "code",
   "execution_count": 61,
   "metadata": {},
   "outputs": [
    {
     "name": "stdout",
     "output_type": "stream",
     "text": [
      "('toi',)\n"
     ]
    }
   ],
   "source": [
    "import mysql.connector \n",
    "\n",
    "mydb = mysql.connector.connect(\n",
    "  host=\"localhost\",\n",
    "  user=\"root\",\n",
    "  password=\"---------\",\n",
    "  database=\"toi_data\"\n",
    ")\n",
    "\n",
    "mycursor = mydb.cursor()\n",
    "\n",
    "mycursor.execute(\"SHOW TABLES\")\n",
    "\n",
    "for x in mycursor:\n",
    "    print(x)\n"
   ]
  },
  {
   "cell_type": "code",
   "execution_count": 62,
   "metadata": {},
   "outputs": [
    {
     "name": "stdout",
     "output_type": "stream",
     "text": [
      "182 record inserted.\n"
     ]
    }
   ],
   "source": [
    "query= 'INSERT INTO toi (Title, URL, DATE, CONTENT, IMAGES)  VALUES (%s, %s,%s, %s, %s)'\n",
    "mycursor.executemany(query, data)\n",
    "mydb.commit()\n",
    "\n",
    "print(mycursor.rowcount, \"record inserted.\")"
   ]
  },
  {
   "cell_type": "code",
   "execution_count": 63,
   "metadata": {},
   "outputs": [],
   "source": [
    "import mysql.connector as sql\n",
    "import pandas as pd"
   ]
  },
  {
   "cell_type": "code",
   "execution_count": 64,
   "metadata": {},
   "outputs": [],
   "source": [
    "db_connection = sql.connect(host='localhost', database='toi_data', user='root', password='-----------')\n",
    "\n",
    "db_cursor = db_connection.cursor()\n",
    "\n",
    "db_cursor.execute('SELECT * FROM toi')\n",
    "\n",
    "table_rows = db_cursor.fetchall()\n",
    "\n",
    "df = pd.DataFrame(table_rows)\n"
   ]
  },
  {
   "cell_type": "code",
   "execution_count": 65,
   "metadata": {},
   "outputs": [
    {
     "data": {
      "text/html": [
       "<div>\n",
       "<style scoped>\n",
       "    .dataframe tbody tr th:only-of-type {\n",
       "        vertical-align: middle;\n",
       "    }\n",
       "\n",
       "    .dataframe tbody tr th {\n",
       "        vertical-align: top;\n",
       "    }\n",
       "\n",
       "    .dataframe thead th {\n",
       "        text-align: right;\n",
       "    }\n",
       "</style>\n",
       "<table border=\"1\" class=\"dataframe\">\n",
       "  <thead>\n",
       "    <tr style=\"text-align: right;\">\n",
       "      <th></th>\n",
       "      <th>Title</th>\n",
       "      <th>URL</th>\n",
       "      <th>Published_Date</th>\n",
       "      <th>news_content</th>\n",
       "      <th>img_urls</th>\n",
       "    </tr>\n",
       "  </thead>\n",
       "  <tbody>\n",
       "    <tr>\n",
       "      <th>0</th>\n",
       "      <td>Kerala DHSE Plus one result 2021 announced, ch...</td>\n",
       "      <td>https://timesofindia.indiatimes.com/home/educa...</td>\n",
       "      <td>2021-11-27 11:07:00</td>\n",
       "      <td>THIRUVANANTHAPURAM: Due to unforeseen reasons,...</td>\n",
       "      <td>https://www.facebook.com/tr?id=200995207256109...</td>\n",
       "    </tr>\n",
       "    <tr>\n",
       "      <th>1</th>\n",
       "      <td>SBI PO 2021 notification released, apply from ...</td>\n",
       "      <td>https://timesofindia.indiatimes.com/home/educa...</td>\n",
       "      <td>2021-10-04 21:00:00</td>\n",
       "      <td>NEW DELHI: State Bank of India (SBI) on Monday...</td>\n",
       "      <td>https://www.facebook.com/tr?id=200995207256109...</td>\n",
       "    </tr>\n",
       "    <tr>\n",
       "      <th>2</th>\n",
       "      <td>BPSC final results 2021 declared for 65CCE exa...</td>\n",
       "      <td>https://timesofindia.indiatimes.com/home/educa...</td>\n",
       "      <td>2021-10-07 14:34:00</td>\n",
       "      <td>PATNA: Bihar Public Service Commission (BPSC) ...</td>\n",
       "      <td>https://www.facebook.com/tr?id=200995207256109...</td>\n",
       "    </tr>\n",
       "    <tr>\n",
       "      <th>3</th>\n",
       "      <td>APSC Enforcement Inspector admit card released...</td>\n",
       "      <td>https://timesofindia.indiatimes.com/home/educa...</td>\n",
       "      <td>2021-10-07 15:23:00</td>\n",
       "      <td>NEW DELHI: The Assam Public Service Commission...</td>\n",
       "      <td>https://www.facebook.com/tr?id=200995207256109...</td>\n",
       "    </tr>\n",
       "    <tr>\n",
       "      <th>4</th>\n",
       "      <td>Odisha Police Recruitment 2021: Apply online f...</td>\n",
       "      <td>https://timesofindia.indiatimes.com/home/educa...</td>\n",
       "      <td>2021-09-20 19:24:00</td>\n",
       "      <td>NEW DELHI: Selection Board Odisha Police, Cutt...</td>\n",
       "      <td>https://www.facebook.com/tr?id=200995207256109...</td>\n",
       "    </tr>\n",
       "  </tbody>\n",
       "</table>\n",
       "</div>"
      ],
      "text/plain": [
       "                                               Title  \\\n",
       "0  Kerala DHSE Plus one result 2021 announced, ch...   \n",
       "1  SBI PO 2021 notification released, apply from ...   \n",
       "2  BPSC final results 2021 declared for 65CCE exa...   \n",
       "3  APSC Enforcement Inspector admit card released...   \n",
       "4  Odisha Police Recruitment 2021: Apply online f...   \n",
       "\n",
       "                                                 URL      Published_Date  \\\n",
       "0  https://timesofindia.indiatimes.com/home/educa... 2021-11-27 11:07:00   \n",
       "1  https://timesofindia.indiatimes.com/home/educa... 2021-10-04 21:00:00   \n",
       "2  https://timesofindia.indiatimes.com/home/educa... 2021-10-07 14:34:00   \n",
       "3  https://timesofindia.indiatimes.com/home/educa... 2021-10-07 15:23:00   \n",
       "4  https://timesofindia.indiatimes.com/home/educa... 2021-09-20 19:24:00   \n",
       "\n",
       "                                        news_content  \\\n",
       "0  THIRUVANANTHAPURAM: Due to unforeseen reasons,...   \n",
       "1  NEW DELHI: State Bank of India (SBI) on Monday...   \n",
       "2  PATNA: Bihar Public Service Commission (BPSC) ...   \n",
       "3  NEW DELHI: The Assam Public Service Commission...   \n",
       "4  NEW DELHI: Selection Board Odisha Police, Cutt...   \n",
       "\n",
       "                                            img_urls  \n",
       "0  https://www.facebook.com/tr?id=200995207256109...  \n",
       "1  https://www.facebook.com/tr?id=200995207256109...  \n",
       "2  https://www.facebook.com/tr?id=200995207256109...  \n",
       "3  https://www.facebook.com/tr?id=200995207256109...  \n",
       "4  https://www.facebook.com/tr?id=200995207256109...  "
      ]
     },
     "execution_count": 65,
     "metadata": {},
     "output_type": "execute_result"
    }
   ],
   "source": [
    "df.rename(columns={0:'Title', 1:'URL', 2:'Published_Date', 3:'news_content', 4:'img_urls'}, inplace =True)\n",
    "df.head()"
   ]
  },
  {
   "cell_type": "code",
   "execution_count": 73,
   "metadata": {},
   "outputs": [],
   "source": [
    "mydb.close()"
   ]
  },
  {
   "cell_type": "code",
   "execution_count": 74,
   "metadata": {},
   "outputs": [
    {
     "data": {
      "text/plain": [
       "False"
      ]
     },
     "execution_count": 74,
     "metadata": {},
     "output_type": "execute_result"
    }
   ],
   "source": [
    "mycursor.close()"
   ]
  },
  {
   "cell_type": "code",
   "execution_count": 75,
   "metadata": {},
   "outputs": [
    {
     "data": {
      "text/plain": [
       "(499, 5)"
      ]
     },
     "execution_count": 75,
     "metadata": {},
     "output_type": "execute_result"
    }
   ],
   "source": [
    "df.shape"
   ]
  },
  {
   "cell_type": "code",
   "execution_count": null,
   "metadata": {},
   "outputs": [],
   "source": []
  }
 ],
 "metadata": {
  "kernelspec": {
   "display_name": "Python 3",
   "language": "python",
   "name": "python3"
  },
  "language_info": {
   "codemirror_mode": {
    "name": "ipython",
    "version": 3
   },
   "file_extension": ".py",
   "mimetype": "text/x-python",
   "name": "python",
   "nbconvert_exporter": "python",
   "pygments_lexer": "ipython3",
   "version": "3.9.5"
  }
 },
 "nbformat": 4,
 "nbformat_minor": 4
}
