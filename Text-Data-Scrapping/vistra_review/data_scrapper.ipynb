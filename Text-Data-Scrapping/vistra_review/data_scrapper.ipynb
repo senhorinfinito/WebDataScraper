{
 "cells": [
  {
   "cell_type": "code",
   "execution_count": 1,
   "id": "8fd3ca64",
   "metadata": {},
   "outputs": [],
   "source": [
    "from selenium import webdriver\n",
    "import time\n",
    "import csv\n",
    "# from webdriver_manager.chrome import ChromeDriverManager\n",
    "\n",
    "chromeOptions = webdriver.ChromeOptions()\n",
    "chromeOptions.add_experimental_option(\"prefs\", {\"profile.managed_default_content_settings.images\": 2})\n",
    "chromeOptions.add_argument(\"--no-sandbox\")\n",
    "chromeOptions.add_argument(\"--disable-setuid-sandbox\")\n",
    "\n",
    "chromeOptions.add_argument(\"--remote-debugging-port=9222\")  # this\n",
    "\n",
    "chromeOptions.add_argument(\"--disable-dev-shm-using\")\n",
    "chromeOptions.add_argument(\"--disable-extensions\")\n",
    "chromeOptions.add_argument(\"--disable-gpu\")\n",
    "chromeOptions.add_argument(\"start-maximized\")\n",
    "chromeOptions.add_argument(\"disable-infobars\")\n",
    "# chromeOptions.add_argument(r\"user-data-dir=.\\cookies\\\\test\")"
   ]
  },
  {
   "cell_type": "code",
   "execution_count": 2,
   "id": "d1f1bd7f",
   "metadata": {},
   "outputs": [
    {
     "name": "stderr",
     "output_type": "stream",
     "text": [
      "<ipython-input-2-aaf7fc261430>:1: DeprecationWarning: use options instead of chrome_options\n",
      "  b = webdriver.Chrome(chrome_options=chromeOptions)\n"
     ]
    }
   ],
   "source": [
    "b = webdriver.Chrome(chrome_options=chromeOptions)\n",
    "b.get(f'https://www.tripadvisor.in/Airline_Review-d8729004-Reviews-Air-India')"
   ]
  },
  {
   "cell_type": "code",
   "execution_count": null,
   "id": "0884d26a",
   "metadata": {
    "scrolled": false
   },
   "outputs": [],
   "source": [
    "start_pages = 1\n",
    "end_pages = 5\n",
    "\n",
    "with open('airinndia29.csv', 'w', encoding='utf-8') as file:\n",
    "    writer = csv.writer(file)\n",
    "    for page in range(start_pages,end_pages):\n",
    "        time.sleep(1)\n",
    "        containers = b.find_elements_by_xpath('.//div[contains(@class, \"Dq9MAugU T870kzTX LnVzGwUB\")]')\n",
    "        b.find_element_by_xpath('.//span[contains(@class, \"_3maEfNCR\")]').click()   \n",
    "        \n",
    "        \n",
    "#         owner = b.find_element_by_class_name('_310S4sqz').text\n",
    "        votes = 5\n",
    "        for i in range(5):\n",
    "            try:\n",
    "                time.sleep(2)\n",
    "                date = containers[i].find_element_by_xpath('.//div[contains(@class, \"_2fxQ4TOx\")]').text\n",
    "                rating = containers[i].find_element_by_xpath('.//span[contains(@class, \"ui_bubble_rating bubble_\")]').get_attribute('class').split('_')[-1]\n",
    "                route_flight =  containers[i].find_element_by_xpath('.//div[contains(@class, \"hpZJCN7D\")]').text\n",
    "                flight_type =  containers[i].find_element_by_xpath('.//div[contains(@class, \"hpZJCN7D\")]').text\n",
    "                class_filght =  containers[i].find_element_by_xpath('.//div[contains(@class, \"hpZJCN7D\")]').text\n",
    "                header_review =  containers[i].find_element_by_xpath('.//div[contains(@class, \"glasR4aX\")]').text\n",
    "                review =  containers[i].find_element_by_xpath('.//q[contains(@class, \"IRsGHoPm\")]').text\n",
    "                data = [str(date), str(rating),str(route_flight),str(flight_type),str(class_filght),str(header_review),str(review)]\n",
    "                writer.writerow(data)\n",
    "    #             print(date)\n",
    "            except:\n",
    "                pass\n",
    "        try:\n",
    "            b.find_element_by_xpath('.//a[contains(@class, \"ui_button nav next primary \")]').click()\n",
    "            time.sleep(4)\n",
    "        except:\n",
    "            print(\"Pages ended\")\n",
    "            pass\n",
    "\n",
    "print('all pages completed')\n"
   ]
  },
  {
   "cell_type": "code",
   "execution_count": null,
   "id": "707cf397",
   "metadata": {},
   "outputs": [],
   "source": []
  }
 ],
 "metadata": {
  "kernelspec": {
   "display_name": "Python 3",
   "language": "python",
   "name": "python3"
  },
  "language_info": {
   "codemirror_mode": {
    "name": "ipython",
    "version": 3
   },
   "file_extension": ".py",
   "mimetype": "text/x-python",
   "name": "python",
   "nbconvert_exporter": "python",
   "pygments_lexer": "ipython3",
   "version": "3.8.8"
  }
 },
 "nbformat": 4,
 "nbformat_minor": 5
}
