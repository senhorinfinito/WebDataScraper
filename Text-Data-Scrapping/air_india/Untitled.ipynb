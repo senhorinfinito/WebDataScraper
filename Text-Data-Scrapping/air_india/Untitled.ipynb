{
 "cells": [
  {
   "cell_type": "code",
   "execution_count": 1,
   "id": "1945a177",
   "metadata": {},
   "outputs": [],
   "source": [
    "import requests\n",
    "from requests import get\n",
    "from bs4  import BeautifulSoup\n",
    "import csv\n",
    "import numpy as np\n",
    "import pandas  as pd"
   ]
  },
  {
   "cell_type": "code",
   "execution_count": 2,
   "id": "efd496d9",
   "metadata": {
    "scrolled": true
   },
   "outputs": [],
   "source": [
    "links_array = [f'https://www.tripadvisor.in/Airline_Review-d8729004-Reviews-or{i}-Air-India' for i in range(10,8000,5)]"
   ]
  },
  {
   "cell_type": "code",
   "execution_count": 3,
   "id": "fb5a63b4",
   "metadata": {},
   "outputs": [],
   "source": [
    "start_website = str(links_array[0])\n",
    "start_website\n",
    "data = requests.get(start_website)\n"
   ]
  },
  {
   "cell_type": "code",
   "execution_count": 4,
   "id": "c444ef3a",
   "metadata": {},
   "outputs": [],
   "source": [
    "soup = BeautifulSoup(data.content, \"html.parser\")"
   ]
  },
  {
   "cell_type": "code",
   "execution_count": 12,
   "id": "335d5e11",
   "metadata": {},
   "outputs": [
    {
     "name": "stdout",
     "output_type": "stream",
     "text": [
      "[]\n"
     ]
    }
   ],
   "source": [
    "print(soup.findAll('div' , attrs = {'class':''}))"
   ]
  },
  {
   "cell_type": "code",
   "execution_count": null,
   "id": "e4edf50d",
   "metadata": {},
   "outputs": [],
   "source": []
  }
 ],
 "metadata": {
  "kernelspec": {
   "display_name": "Python 3",
   "language": "python",
   "name": "python3"
  },
  "language_info": {
   "codemirror_mode": {
    "name": "ipython",
    "version": 3
   },
   "file_extension": ".py",
   "mimetype": "text/x-python",
   "name": "python",
   "nbconvert_exporter": "python",
   "pygments_lexer": "ipython3",
   "version": "3.8.8"
  }
 },
 "nbformat": 4,
 "nbformat_minor": 5
}
